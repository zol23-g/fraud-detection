{
 "cells": [
  {
   "cell_type": "markdown",
   "metadata": {},
   "source": [
    "# Model Building and Training"
   ]
  },
  {
   "cell_type": "code",
   "execution_count": 2,
   "metadata": {},
   "outputs": [],
   "source": [
    "import pandas as pd\n",
    "\n",
    "fraud_data=pd.read_csv('../data/processed/fraud_data.csv')\n",
    "credit_data=pd.read_csv('../data/processed/creditcard_data.csv')"
   ]
  },
  {
   "cell_type": "markdown",
   "metadata": {},
   "source": [
    "## Feature and Target Separation"
   ]
  },
  {
   "cell_type": "code",
   "execution_count": 3,
   "metadata": {},
   "outputs": [],
   "source": [
    "# Fraud data target and features separation\n",
    "X_fraud = fraud_data[['purchase_value', 'transaction_freq', 'transaction_velocity', 'hour_of_day', 'day_of_week', 'source_encoded', 'browser_encoded', 'sex_encoded']]\n",
    "y_fraud = fraud_data['class']\n"
   ]
  },
  {
   "cell_type": "code",
   "execution_count": 4,
   "metadata": {},
   "outputs": [],
   "source": [
    "# Credit card data target and features separation\n",
    "X_credit = credit_data.drop('Class', axis=1)\n",
    "y_credit = credit_data['Class']"
   ]
  },
  {
   "cell_type": "markdown",
   "metadata": {},
   "source": [
    "## Train-Test Split"
   ]
  },
  {
   "cell_type": "code",
   "execution_count": 5,
   "metadata": {},
   "outputs": [],
   "source": [
    "from sklearn.model_selection import train_test_split\n",
    "\n",
    "# Split Fraud_Data into training and test sets\n",
    "X_train_fraud, X_test_fraud, y_train_fraud, y_test_fraud = train_test_split(X_fraud, y_fraud, test_size=0.3, random_state=42)\n",
    "\n",
    "# Split Creditcard data into training and test sets\n",
    "X_train_credit, X_test_credit, y_train_credit, y_test_credit = train_test_split(X_credit, y_credit, test_size=0.3, random_state=42)\n"
   ]
  },
  {
   "cell_type": "markdown",
   "metadata": {},
   "source": [
    "## Model Selection"
   ]
  },
  {
   "cell_type": "markdown",
   "metadata": {},
   "source": [
    "### Logistic Regression"
   ]
  },
  {
   "cell_type": "code",
   "execution_count": 6,
   "metadata": {},
   "outputs": [
    {
     "name": "stdout",
     "output_type": "stream",
     "text": [
      "Fraud Data Logistic Regression Report:\n",
      "              precision    recall  f1-score   support\n",
      "\n",
      "           0       0.91      1.00      0.95     41117\n",
      "           1       0.00      0.00      0.00      4217\n",
      "\n",
      "    accuracy                           0.91     45334\n",
      "   macro avg       0.45      0.50      0.48     45334\n",
      "weighted avg       0.82      0.91      0.86     45334\n",
      "\n"
     ]
    },
    {
     "name": "stderr",
     "output_type": "stream",
     "text": [
      "c:\\Users\\zelalem.wubet\\projects\\personal\\ten-academy\\fraud-detection\\env\\Lib\\site-packages\\sklearn\\metrics\\_classification.py:1531: UndefinedMetricWarning: Precision is ill-defined and being set to 0.0 in labels with no predicted samples. Use `zero_division` parameter to control this behavior.\n",
      "  _warn_prf(average, modifier, f\"{metric.capitalize()} is\", len(result))\n",
      "c:\\Users\\zelalem.wubet\\projects\\personal\\ten-academy\\fraud-detection\\env\\Lib\\site-packages\\sklearn\\metrics\\_classification.py:1531: UndefinedMetricWarning: Precision is ill-defined and being set to 0.0 in labels with no predicted samples. Use `zero_division` parameter to control this behavior.\n",
      "  _warn_prf(average, modifier, f\"{metric.capitalize()} is\", len(result))\n",
      "c:\\Users\\zelalem.wubet\\projects\\personal\\ten-academy\\fraud-detection\\env\\Lib\\site-packages\\sklearn\\metrics\\_classification.py:1531: UndefinedMetricWarning: Precision is ill-defined and being set to 0.0 in labels with no predicted samples. Use `zero_division` parameter to control this behavior.\n",
      "  _warn_prf(average, modifier, f\"{metric.capitalize()} is\", len(result))\n"
     ]
    },
    {
     "name": "stdout",
     "output_type": "stream",
     "text": [
      "Credit Card Data Logistic Regression Report:\n",
      "              precision    recall  f1-score   support\n",
      "\n",
      "           0       1.00      1.00      1.00     84984\n",
      "           1       0.80      0.50      0.61       134\n",
      "\n",
      "    accuracy                           1.00     85118\n",
      "   macro avg       0.90      0.75      0.81     85118\n",
      "weighted avg       1.00      1.00      1.00     85118\n",
      "\n"
     ]
    },
    {
     "name": "stderr",
     "output_type": "stream",
     "text": [
      "c:\\Users\\zelalem.wubet\\projects\\personal\\ten-academy\\fraud-detection\\env\\Lib\\site-packages\\sklearn\\linear_model\\_logistic.py:469: ConvergenceWarning: lbfgs failed to converge (status=1):\n",
      "STOP: TOTAL NO. of ITERATIONS REACHED LIMIT.\n",
      "\n",
      "Increase the number of iterations (max_iter) or scale the data as shown in:\n",
      "    https://scikit-learn.org/stable/modules/preprocessing.html\n",
      "Please also refer to the documentation for alternative solver options:\n",
      "    https://scikit-learn.org/stable/modules/linear_model.html#logistic-regression\n",
      "  n_iter_i = _check_optimize_result(\n"
     ]
    }
   ],
   "source": [
    "from sklearn.linear_model import LogisticRegression\n",
    "from sklearn.metrics import classification_report\n",
    "\n",
    "# Initialize Logistic Regression model\n",
    "lr_model = LogisticRegression()\n",
    "\n",
    "# Train the model on Fraud_Data\n",
    "lr_model.fit(X_train_fraud, y_train_fraud)\n",
    "\n",
    "# Evaluate the model\n",
    "y_pred_fraud_lr = lr_model.predict(X_test_fraud)\n",
    "print(\"Fraud Data Logistic Regression Report:\")\n",
    "print(classification_report(y_test_fraud, y_pred_fraud_lr))\n",
    "\n",
    "# Train the model on Creditcard data\n",
    "lr_model.fit(X_train_credit, y_train_credit)\n",
    "\n",
    "# Evaluate the model\n",
    "y_pred_credit_lr = lr_model.predict(X_test_credit)\n",
    "print(\"Credit Card Data Logistic Regression Report:\")\n",
    "print(classification_report(y_test_credit, y_pred_credit_lr))\n"
   ]
  },
  {
   "cell_type": "markdown",
   "metadata": {},
   "source": [
    "### Decision Tree"
   ]
  },
  {
   "cell_type": "code",
   "execution_count": 7,
   "metadata": {},
   "outputs": [
    {
     "name": "stdout",
     "output_type": "stream",
     "text": [
      "Fraud Data Decision Tree Report:\n",
      "              precision    recall  f1-score   support\n",
      "\n",
      "           0       0.95      0.94      0.95     41117\n",
      "           1       0.50      0.56      0.53      4217\n",
      "\n",
      "    accuracy                           0.91     45334\n",
      "   macro avg       0.73      0.75      0.74     45334\n",
      "weighted avg       0.91      0.91      0.91     45334\n",
      "\n",
      "Credit Card Data Decision Tree Report:\n",
      "              precision    recall  f1-score   support\n",
      "\n",
      "           0       1.00      1.00      1.00     84984\n",
      "           1       0.71      0.79      0.75       134\n",
      "\n",
      "    accuracy                           1.00     85118\n",
      "   macro avg       0.86      0.90      0.87     85118\n",
      "weighted avg       1.00      1.00      1.00     85118\n",
      "\n"
     ]
    }
   ],
   "source": [
    "from sklearn.tree import DecisionTreeClassifier\n",
    "\n",
    "# Initialize Decision Tree model\n",
    "dt_model = DecisionTreeClassifier()\n",
    "\n",
    "# Train the model on Fraud_Data\n",
    "dt_model.fit(X_train_fraud, y_train_fraud)\n",
    "\n",
    "# Evaluate the model\n",
    "y_pred_fraud_dt = dt_model.predict(X_test_fraud)\n",
    "print(\"Fraud Data Decision Tree Report:\")\n",
    "print(classification_report(y_test_fraud, y_pred_fraud_dt))\n",
    "\n",
    "# Train the model on Creditcard data\n",
    "dt_model.fit(X_train_credit, y_train_credit)\n",
    "\n",
    "# Evaluate the model\n",
    "y_pred_credit_dt = dt_model.predict(X_test_credit)\n",
    "print(\"Credit Card Data Decision Tree Report:\")\n",
    "print(classification_report(y_test_credit, y_pred_credit_dt))\n"
   ]
  },
  {
   "cell_type": "markdown",
   "metadata": {},
   "source": [
    "### Random Forest"
   ]
  },
  {
   "cell_type": "code",
   "execution_count": 8,
   "metadata": {},
   "outputs": [
    {
     "name": "stdout",
     "output_type": "stream",
     "text": [
      "Fraud Data Random Forest Report:\n",
      "              precision    recall  f1-score   support\n",
      "\n",
      "           0       0.96      1.00      0.98     41117\n",
      "           1       0.99      0.54      0.70      4217\n",
      "\n",
      "    accuracy                           0.96     45334\n",
      "   macro avg       0.97      0.77      0.84     45334\n",
      "weighted avg       0.96      0.96      0.95     45334\n",
      "\n",
      "Credit Card Data Random Forest Report:\n",
      "              precision    recall  f1-score   support\n",
      "\n",
      "           0       1.00      1.00      1.00     84984\n",
      "           1       0.96      0.73      0.83       134\n",
      "\n",
      "    accuracy                           1.00     85118\n",
      "   macro avg       0.98      0.87      0.92     85118\n",
      "weighted avg       1.00      1.00      1.00     85118\n",
      "\n"
     ]
    }
   ],
   "source": [
    "from sklearn.ensemble import RandomForestClassifier\n",
    "\n",
    "# Initialize Random Forest model\n",
    "rf_model = RandomForestClassifier()\n",
    "\n",
    "# Train the model on Fraud_Data\n",
    "rf_model.fit(X_train_fraud, y_train_fraud)\n",
    "\n",
    "# Evaluate the model\n",
    "y_pred_fraud_rf = rf_model.predict(X_test_fraud)\n",
    "print(\"Fraud Data Random Forest Report:\")\n",
    "print(classification_report(y_test_fraud, y_pred_fraud_rf))\n",
    "\n",
    "# Train the model on Creditcard data\n",
    "rf_model.fit(X_train_credit, y_train_credit)\n",
    "\n",
    "# Evaluate the model\n",
    "y_pred_credit_rf = rf_model.predict(X_test_credit)\n",
    "print(\"Credit Card Data Random Forest Report:\")\n",
    "print(classification_report(y_test_credit, y_pred_credit_rf))\n"
   ]
  },
  {
   "cell_type": "markdown",
   "metadata": {},
   "source": [
    "### Gradient Boosting"
   ]
  },
  {
   "cell_type": "code",
   "execution_count": 9,
   "metadata": {},
   "outputs": [
    {
     "name": "stdout",
     "output_type": "stream",
     "text": [
      "Fraud Data Gradient Boosting Report:\n",
      "              precision    recall  f1-score   support\n",
      "\n",
      "           0       0.96      1.00      0.98     41117\n",
      "           1       1.00      0.54      0.70      4217\n",
      "\n",
      "    accuracy                           0.96     45334\n",
      "   macro avg       0.98      0.77      0.84     45334\n",
      "weighted avg       0.96      0.96      0.95     45334\n",
      "\n",
      "Credit Card Data Gradient Boosting Report:\n",
      "              precision    recall  f1-score   support\n",
      "\n",
      "           0       1.00      1.00      1.00     84984\n",
      "           1       0.76      0.49      0.59       134\n",
      "\n",
      "    accuracy                           1.00     85118\n",
      "   macro avg       0.88      0.74      0.80     85118\n",
      "weighted avg       1.00      1.00      1.00     85118\n",
      "\n"
     ]
    }
   ],
   "source": [
    "from sklearn.ensemble import GradientBoostingClassifier\n",
    "\n",
    "# Initialize Gradient Boosting model\n",
    "gb_model = GradientBoostingClassifier()\n",
    "\n",
    "# Train the model on Fraud_Data\n",
    "gb_model.fit(X_train_fraud, y_train_fraud)\n",
    "\n",
    "# Evaluate the model\n",
    "y_pred_fraud_gb = gb_model.predict(X_test_fraud)\n",
    "print(\"Fraud Data Gradient Boosting Report:\")\n",
    "print(classification_report(y_test_fraud, y_pred_fraud_gb))\n",
    "\n",
    "# Train the model on Creditcard data\n",
    "gb_model.fit(X_train_credit, y_train_credit)\n",
    "\n",
    "# Evaluate the model\n",
    "y_pred_credit_gb = gb_model.predict(X_test_credit)\n",
    "print(\"Credit Card Data Gradient Boosting Report:\")\n",
    "print(classification_report(y_test_credit, y_pred_credit_gb))\n"
   ]
  },
  {
   "cell_type": "markdown",
   "metadata": {},
   "source": [
    "### Multi-Layer Perceptron (MLP)"
   ]
  },
  {
   "cell_type": "code",
   "execution_count": 10,
   "metadata": {},
   "outputs": [
    {
     "name": "stdout",
     "output_type": "stream",
     "text": [
      "Fraud Data MLP Report:\n",
      "              precision    recall  f1-score   support\n",
      "\n",
      "           0       0.96      0.99      0.97     41117\n",
      "           1       0.89      0.55      0.68      4217\n",
      "\n",
      "    accuracy                           0.95     45334\n",
      "   macro avg       0.92      0.77      0.83     45334\n",
      "weighted avg       0.95      0.95      0.95     45334\n",
      "\n",
      "Credit Card Data MLP Report:\n",
      "              precision    recall  f1-score   support\n",
      "\n",
      "           0       1.00      1.00      1.00     84984\n",
      "           1       0.60      0.16      0.25       134\n",
      "\n",
      "    accuracy                           1.00     85118\n",
      "   macro avg       0.80      0.58      0.62     85118\n",
      "weighted avg       1.00      1.00      1.00     85118\n",
      "\n"
     ]
    }
   ],
   "source": [
    "from sklearn.neural_network import MLPClassifier\n",
    "\n",
    "# Initialize Multi-Layer Perceptron model\n",
    "mlp_model = MLPClassifier(max_iter=500)\n",
    "\n",
    "# Train the model on Fraud_Data\n",
    "mlp_model.fit(X_train_fraud, y_train_fraud)\n",
    "\n",
    "# Evaluate the model\n",
    "y_pred_fraud_mlp = mlp_model.predict(X_test_fraud)\n",
    "print(\"Fraud Data MLP Report:\")\n",
    "print(classification_report(y_test_fraud, y_pred_fraud_mlp))\n",
    "\n",
    "# Train the model on Creditcard data\n",
    "mlp_model.fit(X_train_credit, y_train_credit)\n",
    "\n",
    "# Evaluate the model\n",
    "y_pred_credit_mlp = mlp_model.predict(X_test_credit)\n",
    "print(\"Credit Card Data MLP Report:\")\n",
    "print(classification_report(y_test_credit, y_pred_credit_mlp))\n"
   ]
  }
 ],
 "metadata": {
  "kernelspec": {
   "display_name": "env",
   "language": "python",
   "name": "python3"
  },
  "language_info": {
   "codemirror_mode": {
    "name": "ipython",
    "version": 3
   },
   "file_extension": ".py",
   "mimetype": "text/x-python",
   "name": "python",
   "nbconvert_exporter": "python",
   "pygments_lexer": "ipython3",
   "version": "3.12.3"
  }
 },
 "nbformat": 4,
 "nbformat_minor": 2
}
